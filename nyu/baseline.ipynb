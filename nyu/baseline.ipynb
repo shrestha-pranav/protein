{
 "cells": [
  {
   "cell_type": "code",
   "execution_count": 1,
   "metadata": {},
   "outputs": [],
   "source": [
    "# Importing the libraries\n",
    "import tqdm\n",
    "import numpy as np\n",
    "import pandas as pd\n",
    "import pickle as pk\n",
    "from time import time\n",
    "from data import readTrainDataV0, readTestDataV0"
   ]
  },
  {
   "cell_type": "code",
   "execution_count": 2,
   "metadata": {},
   "outputs": [],
   "source": [
    "import logging\n",
    "\n",
    "logging.basicConfig(level=logging.DEBUG, format='%(asctime)-20s %(message)s', datefmt=\"%Y-%m-%d %H:%M:%S\")\n",
    "logger = logging.getLogger(__name__)\n",
    "logger.setLevel(logging.INFO)"
   ]
  },
  {
   "cell_type": "code",
   "execution_count": 3,
   "metadata": {},
   "outputs": [],
   "source": [
    "DATA_V0  = \"../data/v0\"\n",
    "RES_OUT  = \"../results/baseline\""
   ]
  },
  {
   "cell_type": "code",
   "execution_count": 4,
   "metadata": {},
   "outputs": [],
   "source": [
    "class ModelBase:\n",
    "    def __init__(self):\n",
    "        pass\n",
    "    \n",
    "    def fit(self, x, y):\n",
    "        \"\"\" Fit a row of data (x, y) \"\"\"\n",
    "        pass\n",
    "\n",
    "    def prepare(self):\n",
    "        \"\"\" Optional. Called between fit and predict \"\"\"\n",
    "        pass\n",
    "\n",
    "    def predict(self, X):\n",
    "        \"\"\" Predict y from x \"\"\"\n",
    "        pass"
   ]
  },
  {
   "cell_type": "code",
   "execution_count": 5,
   "metadata": {},
   "outputs": [],
   "source": [
    "class ZeroPrediction(ModelBase):\n",
    "    def predict(self, X): return np.zeros((X[1], X[1]))"
   ]
  },
  {
   "cell_type": "code",
   "execution_count": 6,
   "metadata": {},
   "outputs": [],
   "source": [
    "class KNN(ModelBase):\n",
    "    '''Find nearest neighbor, use its matrix '''\n",
    "    def __init__(self):\n",
    "        self.D = {}\n",
    "    \n",
    "    def fit(self,X,y):\n",
    "        n = X[1]\n",
    "        if n not in self.D:\n",
    "            self.D[n] = []\n",
    "        self.D[n].append((X[3],y))\n",
    "    \n",
    "    def predict(self,X):\n",
    "        n = X[1]\n",
    "        if n not in self.D:\n",
    "            # set n_search to be the smallest key >= n\n",
    "            keys = sorted(self.D.keys())\n",
    "            if keys[-1] < n:\n",
    "                logger.debug('alert: zero prediction!!')\n",
    "                return np.zeros((n,n))\n",
    "            else:\n",
    "                logger.debug(f\"alert: cropped prediction!! {n}\")\n",
    "                for k in range(len(keys)):\n",
    "                    if keys[k] >= n:\n",
    "                        n_search = keys[k]\n",
    "                        break\n",
    "        else:\n",
    "            n_search = n\n",
    "        \n",
    "        Data = self.D[n_search]\n",
    "        best_matrix = None\n",
    "        best_LCS = 0\n",
    "        # Find the most similar matrix\n",
    "        for k in range(len(Data)):\n",
    "            s, matrix = Data[k]\n",
    "            cnt_LCS = LCS(s,X[3])\n",
    "            if cnt_LCS >= best_LCS:\n",
    "                best_matrix = matrix\n",
    "                best_LCS = cnt_LCS\n",
    "        return best_matrix[0:n,0:n]   "
   ]
  },
  {
   "cell_type": "code",
   "execution_count": 7,
   "metadata": {},
   "outputs": [],
   "source": [
    "class Avg_Distance(ModelBase):\n",
    "    '''calculate the average of each distance'''\n",
    "    def __init__(self):\n",
    "        self.data = {}\n",
    "    \n",
    "    def fit(self,x,y):\n",
    "        n = y.shape[0]\n",
    "        for i in range(n):\n",
    "            for j in range(i,n):\n",
    "                Distance = j - i\n",
    "                Value = y[i,j]\n",
    "                \n",
    "                if Distance in self.data:\n",
    "                    avgValue, count = self.data[Distance]\n",
    "                    self.data[Distance] = ((avgValue*count+Value)/(count+1),count+1)\n",
    "                else:\n",
    "                    self.data[Distance] = (Value,1)\n",
    "    \n",
    "    # called once before predict, optional\n",
    "    def prepare(self):\n",
    "        # set -1 to the average value of the largest distance\n",
    "        # used when encounter a new distance\n",
    "        self.data[-1] = self.data[max(self.data.keys())]\n",
    "    \n",
    "    def predict(self,x):\n",
    "        n = x[1]\n",
    "        y = np.zeros((n,n))\n",
    "        for i in range(n):\n",
    "            for j in range(i + 1, n):\n",
    "                Dis = j - i\n",
    "                if Dis in self.data:\n",
    "                    Val = self.data[Dis][0]\n",
    "                else:\n",
    "                    Val = self.data[-1][0]\n",
    "                y[i,j] = y[j,i] = Val\n",
    "        return y\n"
   ]
  },
  {
   "cell_type": "code",
   "execution_count": 8,
   "metadata": {},
   "outputs": [],
   "source": [
    "class Avg_Matrix(ModelBase):\n",
    "    ''' Find matrices with similar dimension\n",
    "        return the average of all these matrices '''\n",
    "    def __init__(self):\n",
    "        self.D = {}\n",
    "    \n",
    "    def fit(self,X,y):\n",
    "        n = X[1]\n",
    "        if n not in self.D:\n",
    "            self.D[n] = y, 1\n",
    "        else:\n",
    "            matrix, count = self.D[n]\n",
    "            self.D[n] = (matrix*count+y)/(count + 1), count + 1\n",
    "    \n",
    "    def predict(self,X):\n",
    "        n = X[1]\n",
    "        if n not in self.D:\n",
    "            # set n_search to be the smallest key >= n\n",
    "            keys = sorted(self.D.keys())\n",
    "            if keys[-1] < n:\n",
    "                logger.debug('alert: zero prediction!!')\n",
    "                return np.zeros((n,n))\n",
    "            else:\n",
    "                logger.debug(f\"alert: cropped prediction!! {n}\")\n",
    "                for k in range(len(keys)):\n",
    "                    if keys[k] >= n:\n",
    "                        n_search = keys[k]\n",
    "                        break\n",
    "        else:\n",
    "            n_search = n\n",
    "        # return the average of all matrices of length n_search\n",
    "        # than crop it to [0:n,0:n]\n",
    "        return self.D[n_search][0][0:n,0:n]"
   ]
  },
  {
   "cell_type": "code",
   "execution_count": 9,
   "metadata": {},
   "outputs": [],
   "source": [
    "def LCS(str1,str2):\n",
    "    n1 = len(str1)\n",
    "    n2 = len(str2)\n",
    "    D = np.zeros((n1+1,n2+1),dtype=int)\n",
    "    for i in range(0,n1):\n",
    "        for j in range(0,n2):\n",
    "            # calculate D[i+1][j+1]\n",
    "            D[i+1][j+1] = max(D[i][j+1], D[i+1][j])\n",
    "            if str1[i] == str2[j]:\n",
    "                D[i+1][j+1] = max(D[i+1][j+1],1+D[i][j])\n",
    "    return D[n1][n2]\n",
    "\n",
    "def train_validate(model_class):\n",
    "    ''' Train/Test on 80/20 split on v0 data '''\n",
    "    model = model_class()\n",
    "\n",
    "    logger.info(f\"Training {model_class.__name__}\")\n",
    "    n, X, Y = readTrainDataV0('80')\n",
    "    for k in tqdm.tqdm(range(n)):\n",
    "        model.fit(X[k],Y[k])\n",
    "    model.prepare()\n",
    "    \n",
    "    logger.info(f\"Running {model_class.__name__} predictions \")\n",
    "    n, X, Y = readTrainDataV0('20')\n",
    "    SE = []\n",
    "    for k in tqdm.tqdm(range(n)):\n",
    "        y_pred = model.predict(X[k])\n",
    "        SE.append(np.sum((y_pred - Y[k])**2))\n",
    "    RMSE = np.sqrt(np.mean(SE))\n",
    "    \n",
    "    print(f\"{model_class.__name__:20s} : {RMSE:.2f}\")\n",
    "    return RMSE\n",
    "\n",
    "def train_test(model_class):\n",
    "    ''' Train on 100% data. Predict on test data '''\n",
    "    model = model_class()\n",
    "    \n",
    "    logger.info(f\"Training {model_class.__name__}\")\n",
    "    n, X, Y = readTrainDataV0('100')\n",
    "    for k in tqdm.tqdm(range(n)):\n",
    "        model.fit(X[k],Y[k])\n",
    "    model.prepare()\n",
    "    \n",
    "    logger.info(f\"Running {model_class.__name__} predictions \")\n",
    "    n, X = readTestDataV0()\n",
    "    team_6 = []\n",
    "    for k in tqdm.tqdm(range(n)):\n",
    "        y_pred = model.predict(X[k])\n",
    "        team_6.append(y_pred)\n",
    "    np.savez(f\"{RES_OUT}/{model_class.__name__}.npz\", *team_6)"
   ]
  },
  {
   "cell_type": "code",
   "execution_count": 10,
   "metadata": {},
   "outputs": [
    {
     "name": "stderr",
     "output_type": "stream",
     "text": [
      "2019-01-01 18:29:51  Training/Validating on training data\n",
      "2019-01-01 18:29:51  Training ZeroPrediction\n",
      "100%|█████████████████████████████████████████████████████████████████████████| 3643/3643 [00:00<00:00, 1826422.36it/s]\n",
      "2019-01-01 18:29:51  Running ZeroPrediction predictions \n",
      "100%|██████████████████████████████████████████████████████████████████████████████| 911/911 [00:00<00:00, 3160.12it/s]\n"
     ]
    },
    {
     "name": "stdout",
     "output_type": "stream",
     "text": [
      "ZeroPrediction       : 6952.77\n"
     ]
    },
    {
     "name": "stderr",
     "output_type": "stream",
     "text": [
      "2019-01-01 18:29:52  Training KNN\n",
      "100%|█████████████████████████████████████████████████████████████████████████| 3643/3643 [00:00<00:00, 1221020.41it/s]\n",
      "2019-01-01 18:29:52  Running KNN predictions \n",
      "100%|████████████████████████████████████████████████████████████████████████████████| 911/911 [04:30<00:00,  2.75it/s]\n"
     ]
    },
    {
     "name": "stdout",
     "output_type": "stream",
     "text": [
      "KNN                  : 3576.94\n"
     ]
    },
    {
     "name": "stderr",
     "output_type": "stream",
     "text": [
      "2019-01-01 18:34:23  Training Avg_Matrix\n",
      "100%|███████████████████████████████████████████████████████████████████████████| 3643/3643 [00:00<00:00, 16674.40it/s]\n",
      "2019-01-01 18:34:24  Running Avg_Matrix predictions \n",
      "100%|██████████████████████████████████████████████████████████████████████████████| 911/911 [00:00<00:00, 7549.06it/s]\n"
     ]
    },
    {
     "name": "stdout",
     "output_type": "stream",
     "text": [
      "Avg_Matrix           : 3024.67\n"
     ]
    },
    {
     "name": "stderr",
     "output_type": "stream",
     "text": [
      "2019-01-01 18:34:24  Training Avg_Distance\n",
      "100%|██████████████████████████████████████████████████████████████████████████████| 3643/3643 [01:24<00:00, 41.68it/s]\n",
      "2019-01-01 18:35:49  Running Avg_Distance predictions \n",
      "100%|███████████████████████████████████████████████████████████████████████████████| 911/911 [00:07<00:00, 125.18it/s]\n"
     ]
    },
    {
     "name": "stdout",
     "output_type": "stream",
     "text": [
      "Avg_Distance         : 2567.87\n"
     ]
    },
    {
     "name": "stderr",
     "output_type": "stream",
     "text": [
      "2019-01-01 18:35:57  Generating test dataset evaluations\n",
      "2019-01-01 18:35:57  Training ZeroPrediction\n",
      "100%|█████████████████████████████████████████████████████████████████████████| 4554/4554 [00:00<00:00, 2249806.88it/s]\n",
      "2019-01-01 18:35:58  Running ZeroPrediction predictions \n",
      "100%|█████████████████████████████████████████████████████████████████████████████| 224/224 [00:00<00:00, 13221.37it/s]\n",
      "2019-01-01 18:35:58  Training KNN\n",
      "100%|█████████████████████████████████████████████████████████████████████████| 4554/4554 [00:00<00:00, 1522830.30it/s]\n",
      "2019-01-01 18:35:59  Running KNN predictions \n",
      "100%|████████████████████████████████████████████████████████████████████████████████| 224/224 [01:27<00:00,  2.29it/s]\n",
      "2019-01-01 18:37:26  Training Avg_Matrix\n",
      "100%|███████████████████████████████████████████████████████████████████████████| 4554/4554 [00:00<00:00, 15998.11it/s]\n",
      "2019-01-01 18:37:27  Running Avg_Matrix predictions \n",
      "100%|████████████████████████████████████████████████████████████████████████████| 224/224 [00:00<00:00, 224337.18it/s]\n",
      "2019-01-01 18:37:27  Training Avg_Distance\n",
      "100%|██████████████████████████████████████████████████████████████████████████████| 4554/4554 [01:45<00:00, 42.98it/s]\n",
      "2019-01-01 18:39:14  Running Avg_Distance predictions \n",
      "100%|███████████████████████████████████████████████████████████████████████████████| 224/224 [00:01<00:00, 106.22it/s]\n"
     ]
    }
   ],
   "source": [
    "if __name__ == '__main__':\n",
    "    # Results = ZeroPrediction: 6952.77, KNN:3576.94, Avg_Matrix:3024.67, Avg_Distance:2567.87\n",
    "    models = [ZeroPrediction, KNN, Avg_Matrix, Avg_Distance]\n",
    "    \n",
    "    logger.info(\"Training/Validating on training data\")\n",
    "    with open(\"./baseline_log.log\", \"w\") as log_file:\n",
    "        for model in models:\n",
    "            RMSE = train_validate(model)\n",
    "            log_file.write(f\"{model.__name__:20s} : {RMSE:.2f}\\n\")\n",
    "        \n",
    "    logger.info(\"Generating test dataset evaluations\")\n",
    "    for model in models: train_test(model)"
   ]
  }
 ],
 "metadata": {
  "kernelspec": {
   "display_name": "Tensorflow 3.6.7",
   "language": "python",
   "name": "tensorflow"
  },
  "language_info": {
   "codemirror_mode": {
    "name": "ipython",
    "version": 3
   },
   "file_extension": ".py",
   "mimetype": "text/x-python",
   "name": "python",
   "nbconvert_exporter": "python",
   "pygments_lexer": "ipython3",
   "version": "3.6.7"
  }
 },
 "nbformat": 4,
 "nbformat_minor": 2
}
